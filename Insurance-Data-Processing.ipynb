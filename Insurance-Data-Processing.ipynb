{
 "cells": [
  {
   "cell_type": "markdown",
   "id": "837b2f89",
   "metadata": {},
   "source": [
    "# Medical Insurance Analysis\n",
    "\n",
    "The objective of the project is to use Python to analyze different attributes included in insurance.csv in order to better understand the patient data contained therein and to obtain insight into potential implementations for the dataset."
   ]
  },
  {
   "cell_type": "code",
   "execution_count": 2,
   "id": "2858f2b9",
   "metadata": {},
   "outputs": [],
   "source": [
    "#importing the required library\n",
    "import pandas as pd\n",
    "import csv"
   ]
  },
  {
   "cell_type": "code",
   "execution_count": 3,
   "id": "36e006f5",
   "metadata": {},
   "outputs": [],
   "source": [
    "#importing the dataset\n",
    "df_dataset = pd.read_csv('insurance.csv')"
   ]
  },
  {
   "cell_type": "code",
   "execution_count": 5,
   "id": "94167486",
   "metadata": {},
   "outputs": [
    {
     "data": {
      "text/html": [
       "<div>\n",
       "<style scoped>\n",
       "    .dataframe tbody tr th:only-of-type {\n",
       "        vertical-align: middle;\n",
       "    }\n",
       "\n",
       "    .dataframe tbody tr th {\n",
       "        vertical-align: top;\n",
       "    }\n",
       "\n",
       "    .dataframe thead th {\n",
       "        text-align: right;\n",
       "    }\n",
       "</style>\n",
       "<table border=\"1\" class=\"dataframe\">\n",
       "  <thead>\n",
       "    <tr style=\"text-align: right;\">\n",
       "      <th></th>\n",
       "      <th>age</th>\n",
       "      <th>sex</th>\n",
       "      <th>bmi</th>\n",
       "      <th>children</th>\n",
       "      <th>smoker</th>\n",
       "      <th>region</th>\n",
       "      <th>charges</th>\n",
       "    </tr>\n",
       "  </thead>\n",
       "  <tbody>\n",
       "    <tr>\n",
       "      <th>0</th>\n",
       "      <td>19</td>\n",
       "      <td>female</td>\n",
       "      <td>27.900</td>\n",
       "      <td>0</td>\n",
       "      <td>yes</td>\n",
       "      <td>southwest</td>\n",
       "      <td>16884.92400</td>\n",
       "    </tr>\n",
       "    <tr>\n",
       "      <th>1</th>\n",
       "      <td>18</td>\n",
       "      <td>male</td>\n",
       "      <td>33.770</td>\n",
       "      <td>1</td>\n",
       "      <td>no</td>\n",
       "      <td>southeast</td>\n",
       "      <td>1725.55230</td>\n",
       "    </tr>\n",
       "    <tr>\n",
       "      <th>2</th>\n",
       "      <td>28</td>\n",
       "      <td>male</td>\n",
       "      <td>33.000</td>\n",
       "      <td>3</td>\n",
       "      <td>no</td>\n",
       "      <td>southeast</td>\n",
       "      <td>4449.46200</td>\n",
       "    </tr>\n",
       "    <tr>\n",
       "      <th>3</th>\n",
       "      <td>33</td>\n",
       "      <td>male</td>\n",
       "      <td>22.705</td>\n",
       "      <td>0</td>\n",
       "      <td>no</td>\n",
       "      <td>northwest</td>\n",
       "      <td>21984.47061</td>\n",
       "    </tr>\n",
       "    <tr>\n",
       "      <th>4</th>\n",
       "      <td>32</td>\n",
       "      <td>male</td>\n",
       "      <td>28.880</td>\n",
       "      <td>0</td>\n",
       "      <td>no</td>\n",
       "      <td>northwest</td>\n",
       "      <td>3866.85520</td>\n",
       "    </tr>\n",
       "    <tr>\n",
       "      <th>...</th>\n",
       "      <td>...</td>\n",
       "      <td>...</td>\n",
       "      <td>...</td>\n",
       "      <td>...</td>\n",
       "      <td>...</td>\n",
       "      <td>...</td>\n",
       "      <td>...</td>\n",
       "    </tr>\n",
       "    <tr>\n",
       "      <th>1333</th>\n",
       "      <td>50</td>\n",
       "      <td>male</td>\n",
       "      <td>30.970</td>\n",
       "      <td>3</td>\n",
       "      <td>no</td>\n",
       "      <td>northwest</td>\n",
       "      <td>10600.54830</td>\n",
       "    </tr>\n",
       "    <tr>\n",
       "      <th>1334</th>\n",
       "      <td>18</td>\n",
       "      <td>female</td>\n",
       "      <td>31.920</td>\n",
       "      <td>0</td>\n",
       "      <td>no</td>\n",
       "      <td>northeast</td>\n",
       "      <td>2205.98080</td>\n",
       "    </tr>\n",
       "    <tr>\n",
       "      <th>1335</th>\n",
       "      <td>18</td>\n",
       "      <td>female</td>\n",
       "      <td>36.850</td>\n",
       "      <td>0</td>\n",
       "      <td>no</td>\n",
       "      <td>southeast</td>\n",
       "      <td>1629.83350</td>\n",
       "    </tr>\n",
       "    <tr>\n",
       "      <th>1336</th>\n",
       "      <td>21</td>\n",
       "      <td>female</td>\n",
       "      <td>25.800</td>\n",
       "      <td>0</td>\n",
       "      <td>no</td>\n",
       "      <td>southwest</td>\n",
       "      <td>2007.94500</td>\n",
       "    </tr>\n",
       "    <tr>\n",
       "      <th>1337</th>\n",
       "      <td>61</td>\n",
       "      <td>female</td>\n",
       "      <td>29.070</td>\n",
       "      <td>0</td>\n",
       "      <td>yes</td>\n",
       "      <td>northwest</td>\n",
       "      <td>29141.36030</td>\n",
       "    </tr>\n",
       "  </tbody>\n",
       "</table>\n",
       "<p>1338 rows × 7 columns</p>\n",
       "</div>"
      ],
      "text/plain": [
       "      age     sex     bmi  children smoker     region      charges\n",
       "0      19  female  27.900         0    yes  southwest  16884.92400\n",
       "1      18    male  33.770         1     no  southeast   1725.55230\n",
       "2      28    male  33.000         3     no  southeast   4449.46200\n",
       "3      33    male  22.705         0     no  northwest  21984.47061\n",
       "4      32    male  28.880         0     no  northwest   3866.85520\n",
       "...   ...     ...     ...       ...    ...        ...          ...\n",
       "1333   50    male  30.970         3     no  northwest  10600.54830\n",
       "1334   18  female  31.920         0     no  northeast   2205.98080\n",
       "1335   18  female  36.850         0     no  southeast   1629.83350\n",
       "1336   21  female  25.800         0     no  southwest   2007.94500\n",
       "1337   61  female  29.070         0    yes  northwest  29141.36030\n",
       "\n",
       "[1338 rows x 7 columns]"
      ]
     },
     "execution_count": 5,
     "metadata": {},
     "output_type": "execute_result"
    }
   ],
   "source": [
    "df_dataset"
   ]
  },
  {
   "cell_type": "markdown",
   "id": "2beef105",
   "metadata": {},
   "source": [
    "### The next step is to look through insurance.csv in order to get aquanted with the data.\n",
    "Then we check the  following aspects of the data file in order to know:\n",
    "\n",
    "- The names of columns and rows\n",
    "- Any noticeable missing data\n",
    "- Types of values (numerical vs. categorical)"
   ]
  },
  {
   "cell_type": "code",
   "execution_count": 8,
   "id": "f28a4ff5",
   "metadata": {},
   "outputs": [],
   "source": [
    "#Create empty lists for the various attributes in insurance.csv\n",
    "ages = []\n",
    "sexes = []\n",
    "bmis = []\n",
    "num_children = []\n",
    "smoker_statuses = []\n",
    "regions = []\n",
    "insurance_charges = []"
   ]
  },
  {
   "cell_type": "markdown",
   "id": "e337b9a1",
   "metadata": {},
   "source": [
    "### The insurance.csv dataset contains the following columns:\n",
    "\n",
    "- Patient Age\n",
    "- Patient Sex\n",
    "- Patient BMI\n",
    "- Patient Number of Children\n",
    "- Patient Smoking Status\n",
    "- Patient Geopraphical Region\n",
    "- Patient Yearly Medical Insurance Cost"
   ]
  },
  {
   "cell_type": "code",
   "execution_count": 15,
   "id": "53de2284",
   "metadata": {},
   "outputs": [],
   "source": [
    "users_list = []\n",
    "with open('insurance.csv', newline = '') as users_csv:\n",
    "    user_reader = csv.DictReader(users_csv)\n",
    "    for user in user_reader:\n",
    "        user['age'] = int(user['age']) \n",
    "        user['bmi'] = float(user['bmi'])\n",
    "        user['children'] = int(user['children'])\n",
    "        user['charges'] = float(user['charges'])\n",
    "        user['smoker'] = user['smoker'] == 'yes'\n",
    "        users_list.append(user)"
   ]
  },
  {
   "cell_type": "markdown",
   "id": "0789a58f",
   "metadata": {},
   "source": [
    "### Gender and age distribution on a graph"
   ]
  },
  {
   "cell_type": "code",
   "execution_count": 16,
   "id": "d0c310fd",
   "metadata": {},
   "outputs": [],
   "source": [
    "# Create generalized age groups:\n",
    "age_groups = {\n",
    "    '18-25': {\n",
    "        'male': 0,\n",
    "        'female': 0,\n",
    "        'total': 0\n",
    "    },\n",
    "    '26-30': {\n",
    "        'male': 0,\n",
    "        'female': 0,\n",
    "        'total': 0\n",
    "    },    \n",
    "    '31-45': {\n",
    "        'male': 0,\n",
    "        'female': 0,\n",
    "        'total': 0\n",
    "    }, \n",
    "    '46-60': {\n",
    "        'male': 0,\n",
    "        'female': 0,\n",
    "        'total': 0\n",
    "    }, \n",
    "    '61-75': {\n",
    "        'male': 0,\n",
    "        'female': 0,\n",
    "        'total': 0\n",
    "    }, \n",
    "    '76 +': {\n",
    "        'male': 0,\n",
    "        'female': 0,\n",
    "        'total': 0\n",
    "    } \n",
    "}"
   ]
  },
  {
   "cell_type": "code",
   "execution_count": 17,
   "id": "4e9a3941",
   "metadata": {},
   "outputs": [
    {
     "data": {
      "text/plain": [
       "{'18-25': {'male': 159, 'female': 147, 'total': 306},\n",
       " '26-30': {'male': 71, 'female': 67, 'total': 138},\n",
       " '31-45': {'male': 199, 'female': 195, 'total': 394},\n",
       " '46-60': {'male': 203, 'female': 206, 'total': 409},\n",
       " '61-75': {'male': 44, 'female': 47, 'total': 91},\n",
       " '76 +': {'male': 0, 'female': 0, 'total': 0}}"
      ]
     },
     "execution_count": 17,
     "metadata": {},
     "output_type": "execute_result"
    }
   ],
   "source": [
    "# Put representatives' data points in each age groups and determine gender proportion in each.\n",
    "        \n",
    "for user in users_list:\n",
    "    age = user['age']\n",
    "    sex = user['sex']\n",
    "    if age >= 18 and age <= 25:\n",
    "        age_groups['18-25']['total'] += 1\n",
    "        age_groups['18-25'][sex] += 1\n",
    "    elif age >= 26 and age <= 30:\n",
    "        age_groups['26-30']['total'] += 1\n",
    "        age_groups['26-30'][sex] += 1\n",
    "    elif age >= 31 and age <= 45:\n",
    "        age_groups['31-45']['total'] += 1\n",
    "        age_groups['31-45'][sex] += 1\n",
    "    elif age >= 46 and age <= 60:\n",
    "        age_groups['46-60']['total'] += 1\n",
    "        age_groups['46-60'][sex] += 1\n",
    "    elif age >= 61 and age <= 75:\n",
    "        age_groups['61-75']['total'] += 1\n",
    "        age_groups['61-75'][sex] += 1\n",
    "    elif age >= 76:\n",
    "        age_groups['76 +']['total'] += 1\n",
    "        age_groups['76 +'][sex] += 1\n",
    "age_groups"
   ]
  },
  {
   "cell_type": "code",
   "execution_count": 18,
   "id": "e59c0af6",
   "metadata": {},
   "outputs": [
    {
     "data": {
      "text/plain": [
       "{'18-25': {'male': 51.96, 'female': 48.04, 'diff': 3.92},\n",
       " '26-30': {'male': 51.45, 'female': 48.55, 'diff': 2.9},\n",
       " '31-45': {'male': 50.51, 'female': 49.49, 'diff': 1.02},\n",
       " '46-60': {'male': 49.63, 'female': 50.37, 'diff': 0.74},\n",
       " '61-75': {'male': 48.35, 'female': 51.65, 'diff': 3.3},\n",
       " '76 +': {'male': 0, 'female': 0, 'diff': 0}}"
      ]
     },
     "execution_count": 18,
     "metadata": {},
     "output_type": "execute_result"
    }
   ],
   "source": [
    "# Converting the distribution into percentage\n",
    "def percentage_calc(part, whole):\n",
    "    if whole == 0:\n",
    "        return 0\n",
    "    percentage = round(100 * part/whole, 2)\n",
    "    return percentage\n",
    "\n",
    "def age_groups_in_percentages(list):\n",
    "    age_groups_in_perc = {\n",
    "        '18-25': {\n",
    "            'male': 0,\n",
    "            'female': 0,\n",
    "            'diff': 0\n",
    "        },\n",
    "        '26-30': {\n",
    "            'male': 0,\n",
    "            'female': 0,\n",
    "            'diff': 0\n",
    "        },    \n",
    "        '31-45': {\n",
    "            'male': 0,\n",
    "            'female': 0,\n",
    "            'diff': 0\n",
    "        }, \n",
    "        '46-60': {\n",
    "            'male': 0,\n",
    "            'female': 0,\n",
    "            'diff': 0    \n",
    "        }, \n",
    "        '61-75': {\n",
    "            'male': 0,\n",
    "            'female': 0,\n",
    "            'diff': 0\n",
    "        }, \n",
    "        '76 +': {\n",
    "            'male': 0,\n",
    "            'female': 0,\n",
    "            'diff': 0\n",
    "        } \n",
    "    }\n",
    "    for key, value in age_groups.items():\n",
    "        age_groups_in_perc[key]['male'] = percentage_calc(value['male'], value['total'])\n",
    "        age_groups_in_perc[key]['female'] = percentage_calc(value['female'], value['total'])\n",
    "        age_groups_in_perc[key]['diff'] = round(abs(age_groups_in_perc[key]['male'] - age_groups_in_perc[key]['female']), 2)\n",
    "    return age_groups_in_perc\n",
    "\n",
    "\n",
    "\n",
    "\n",
    "age_groups_in_percentages(age_groups)"
   ]
  },
  {
   "cell_type": "code",
   "execution_count": 20,
   "id": "2904035b",
   "metadata": {},
   "outputs": [
    {
     "name": "stdout",
     "output_type": "stream",
     "text": [
      "50.52\n",
      "49.48\n"
     ]
    }
   ],
   "source": [
    "# General gender proportion in numbers and percentage (%)\n",
    "total_n_males = 0\n",
    "total_n_females = 0\n",
    "for value in age_groups.values():\n",
    "    total_n_males += value['male']\n",
    "for value in age_groups.values():\n",
    "    total_n_females += value['female']\n",
    "\n",
    "total_n_users = total_n_females + total_n_males\n",
    "\n",
    "print(percentage_calc(total_n_males, total_n_users))\n",
    "print(percentage_calc(total_n_females, total_n_users))"
   ]
  },
  {
   "cell_type": "code",
   "execution_count": 27,
   "id": "8d08a11a",
   "metadata": {},
   "outputs": [
    {
     "data": {
      "image/png": "[encoded data removed]",
      "text/plain": [
       "<Figure size 720x864 with 1 Axes>"
      ]
     },
     "metadata": {
      "needs_background": "light"
     },
     "output_type": "display_data"
    }
   ],
   "source": [
    "# Shows the data in graph\n",
    "import matplotlib.pyplot as plt \n",
    "\n",
    "labels = age_groups.keys()\n",
    "men_ages = [value['male'] for value in age_groups.values()]\n",
    "women_ages = [value['female'] for value in age_groups.values()]\n",
    "width = 0.60     \n",
    "\n",
    "fig, ax = plt.subplots(figsize=(10, 12))\n",
    "\n",
    "\n",
    "ax.bar(labels, men_ages, width, label='Men')\n",
    "ax.bar(labels, women_ages, width, bottom=men_ages,\n",
    "       label='Women')\n",
    "\n",
    "ax.set_ylabel('Number of people')\n",
    "ax.set_title('Number of people by age group and gender')\n",
    "ax.legend()\n",
    "\n",
    "plt.show()\n"
   ]
  },
  {
   "cell_type": "markdown",
   "id": "6d291980",
   "metadata": {},
   "source": [
    "#### Nasabah yang berpotensi melakukan klaim adalah nasabah perempuan yang merokok, berapa banyak nasabah dengan ciri-ciri tersebut?"
   ]
  },
  {
   "cell_type": "code",
   "execution_count": 6,
   "id": "87a2ba49",
   "metadata": {},
   "outputs": [
    {
     "data": {
      "text/html": [
       "<div>\n",
       "<style scoped>\n",
       "    .dataframe tbody tr th:only-of-type {\n",
       "        vertical-align: middle;\n",
       "    }\n",
       "\n",
       "    .dataframe tbody tr th {\n",
       "        vertical-align: top;\n",
       "    }\n",
       "\n",
       "    .dataframe thead th {\n",
       "        text-align: right;\n",
       "    }\n",
       "</style>\n",
       "<table border=\"1\" class=\"dataframe\">\n",
       "  <thead>\n",
       "    <tr style=\"text-align: right;\">\n",
       "      <th></th>\n",
       "      <th>age</th>\n",
       "      <th>sex</th>\n",
       "      <th>bmi</th>\n",
       "      <th>children</th>\n",
       "      <th>smoker</th>\n",
       "      <th>region</th>\n",
       "      <th>charges</th>\n",
       "    </tr>\n",
       "  </thead>\n",
       "  <tbody>\n",
       "    <tr>\n",
       "      <th>0</th>\n",
       "      <td>19</td>\n",
       "      <td>female</td>\n",
       "      <td>27.900</td>\n",
       "      <td>0</td>\n",
       "      <td>yes</td>\n",
       "      <td>southwest</td>\n",
       "      <td>16884.92400</td>\n",
       "    </tr>\n",
       "    <tr>\n",
       "      <th>11</th>\n",
       "      <td>62</td>\n",
       "      <td>female</td>\n",
       "      <td>26.290</td>\n",
       "      <td>0</td>\n",
       "      <td>yes</td>\n",
       "      <td>southeast</td>\n",
       "      <td>27808.72510</td>\n",
       "    </tr>\n",
       "    <tr>\n",
       "      <th>23</th>\n",
       "      <td>34</td>\n",
       "      <td>female</td>\n",
       "      <td>31.920</td>\n",
       "      <td>1</td>\n",
       "      <td>yes</td>\n",
       "      <td>northeast</td>\n",
       "      <td>37701.87680</td>\n",
       "    </tr>\n",
       "    <tr>\n",
       "      <th>58</th>\n",
       "      <td>53</td>\n",
       "      <td>female</td>\n",
       "      <td>22.880</td>\n",
       "      <td>1</td>\n",
       "      <td>yes</td>\n",
       "      <td>southeast</td>\n",
       "      <td>23244.79020</td>\n",
       "    </tr>\n",
       "    <tr>\n",
       "      <th>64</th>\n",
       "      <td>20</td>\n",
       "      <td>female</td>\n",
       "      <td>22.420</td>\n",
       "      <td>0</td>\n",
       "      <td>yes</td>\n",
       "      <td>northwest</td>\n",
       "      <td>14711.74380</td>\n",
       "    </tr>\n",
       "    <tr>\n",
       "      <th>...</th>\n",
       "      <td>...</td>\n",
       "      <td>...</td>\n",
       "      <td>...</td>\n",
       "      <td>...</td>\n",
       "      <td>...</td>\n",
       "      <td>...</td>\n",
       "      <td>...</td>\n",
       "    </tr>\n",
       "    <tr>\n",
       "      <th>1308</th>\n",
       "      <td>25</td>\n",
       "      <td>female</td>\n",
       "      <td>30.200</td>\n",
       "      <td>0</td>\n",
       "      <td>yes</td>\n",
       "      <td>southwest</td>\n",
       "      <td>33900.65300</td>\n",
       "    </tr>\n",
       "    <tr>\n",
       "      <th>1313</th>\n",
       "      <td>19</td>\n",
       "      <td>female</td>\n",
       "      <td>34.700</td>\n",
       "      <td>2</td>\n",
       "      <td>yes</td>\n",
       "      <td>southwest</td>\n",
       "      <td>36397.57600</td>\n",
       "    </tr>\n",
       "    <tr>\n",
       "      <th>1314</th>\n",
       "      <td>30</td>\n",
       "      <td>female</td>\n",
       "      <td>23.655</td>\n",
       "      <td>3</td>\n",
       "      <td>yes</td>\n",
       "      <td>northwest</td>\n",
       "      <td>18765.87545</td>\n",
       "    </tr>\n",
       "    <tr>\n",
       "      <th>1323</th>\n",
       "      <td>42</td>\n",
       "      <td>female</td>\n",
       "      <td>40.370</td>\n",
       "      <td>2</td>\n",
       "      <td>yes</td>\n",
       "      <td>southeast</td>\n",
       "      <td>43896.37630</td>\n",
       "    </tr>\n",
       "    <tr>\n",
       "      <th>1337</th>\n",
       "      <td>61</td>\n",
       "      <td>female</td>\n",
       "      <td>29.070</td>\n",
       "      <td>0</td>\n",
       "      <td>yes</td>\n",
       "      <td>northwest</td>\n",
       "      <td>29141.36030</td>\n",
       "    </tr>\n",
       "  </tbody>\n",
       "</table>\n",
       "<p>115 rows × 7 columns</p>\n",
       "</div>"
      ],
      "text/plain": [
       "      age     sex     bmi  children smoker     region      charges\n",
       "0      19  female  27.900         0    yes  southwest  16884.92400\n",
       "11     62  female  26.290         0    yes  southeast  27808.72510\n",
       "23     34  female  31.920         1    yes  northeast  37701.87680\n",
       "58     53  female  22.880         1    yes  southeast  23244.79020\n",
       "64     20  female  22.420         0    yes  northwest  14711.74380\n",
       "...   ...     ...     ...       ...    ...        ...          ...\n",
       "1308   25  female  30.200         0    yes  southwest  33900.65300\n",
       "1313   19  female  34.700         2    yes  southwest  36397.57600\n",
       "1314   30  female  23.655         3    yes  northwest  18765.87545\n",
       "1323   42  female  40.370         2    yes  southeast  43896.37630\n",
       "1337   61  female  29.070         0    yes  northwest  29141.36030\n",
       "\n",
       "[115 rows x 7 columns]"
      ]
     },
     "execution_count": 6,
     "metadata": {},
     "output_type": "execute_result"
    }
   ],
   "source": [
    "df_dataset[ (df_dataset['sex'] == 'female') & (df_dataset['smoker'] == 'yes') ]"
   ]
  },
  {
   "cell_type": "code",
   "execution_count": 7,
   "id": "2613893c",
   "metadata": {},
   "outputs": [],
   "source": [
    "#Variable data adalah hasil jumlah female smoker\n",
    "data = df_dataset[ (df_dataset['sex'] == 'female') & (df_dataset['smoker'] == 'yes') ]"
   ]
  },
  {
   "cell_type": "code",
   "execution_count": 8,
   "id": "93643969",
   "metadata": {},
   "outputs": [
    {
     "data": {
      "text/plain": [
       "(115, 7)"
      ]
     },
     "execution_count": 8,
     "metadata": {},
     "output_type": "execute_result"
    }
   ],
   "source": [
    "data.shape"
   ]
  },
  {
   "cell_type": "markdown",
   "id": "ac6ce91a",
   "metadata": {},
   "source": [
    "#### Berdasarkan ciri-ciri nasabah di pertanyaan sebelumnya, berapa rata-rata biaya yang harus disiapkan perusahaan asuransi untuk membayarkan klaim nasabah-nasabah tersebut?"
   ]
  },
  {
   "cell_type": "code",
   "execution_count": 9,
   "id": "9096a790",
   "metadata": {},
   "outputs": [
    {
     "data": {
      "text/plain": [
       "30678.996276260867"
      ]
     },
     "execution_count": 9,
     "metadata": {},
     "output_type": "execute_result"
    }
   ],
   "source": [
    "data['charges'].mean()"
   ]
  },
  {
   "cell_type": "markdown",
   "id": "72a1997d",
   "metadata": {},
   "source": [
    "#### Anggi dari perusahaan asuransi ingin mengunjungi nasabah yang berusia 64 tahun dan memiliki 1 orang anak. Bantulah Anggi untuk menemukan dimana wilayah tempat tinggal nasabah tersebut?"
   ]
  },
  {
   "cell_type": "code",
   "execution_count": 10,
   "id": "c3706707",
   "metadata": {},
   "outputs": [
    {
     "data": {
      "text/html": [
       "<div>\n",
       "<style scoped>\n",
       "    .dataframe tbody tr th:only-of-type {\n",
       "        vertical-align: middle;\n",
       "    }\n",
       "\n",
       "    .dataframe tbody tr th {\n",
       "        vertical-align: top;\n",
       "    }\n",
       "\n",
       "    .dataframe thead th {\n",
       "        text-align: right;\n",
       "    }\n",
       "</style>\n",
       "<table border=\"1\" class=\"dataframe\">\n",
       "  <thead>\n",
       "    <tr style=\"text-align: right;\">\n",
       "      <th></th>\n",
       "      <th>age</th>\n",
       "      <th>sex</th>\n",
       "      <th>bmi</th>\n",
       "      <th>children</th>\n",
       "      <th>smoker</th>\n",
       "      <th>region</th>\n",
       "      <th>charges</th>\n",
       "    </tr>\n",
       "  </thead>\n",
       "  <tbody>\n",
       "    <tr>\n",
       "      <th>62</th>\n",
       "      <td>64</td>\n",
       "      <td>male</td>\n",
       "      <td>24.70</td>\n",
       "      <td>1</td>\n",
       "      <td>no</td>\n",
       "      <td>northwest</td>\n",
       "      <td>30166.61817</td>\n",
       "    </tr>\n",
       "    <tr>\n",
       "      <th>328</th>\n",
       "      <td>64</td>\n",
       "      <td>female</td>\n",
       "      <td>33.80</td>\n",
       "      <td>1</td>\n",
       "      <td>yes</td>\n",
       "      <td>southwest</td>\n",
       "      <td>47928.03000</td>\n",
       "    </tr>\n",
       "    <tr>\n",
       "      <th>418</th>\n",
       "      <td>64</td>\n",
       "      <td>male</td>\n",
       "      <td>39.16</td>\n",
       "      <td>1</td>\n",
       "      <td>no</td>\n",
       "      <td>southeast</td>\n",
       "      <td>14418.28040</td>\n",
       "    </tr>\n",
       "  </tbody>\n",
       "</table>\n",
       "</div>"
      ],
      "text/plain": [
       "     age     sex    bmi  children smoker     region      charges\n",
       "62    64    male  24.70         1     no  northwest  30166.61817\n",
       "328   64  female  33.80         1    yes  southwest  47928.03000\n",
       "418   64    male  39.16         1     no  southeast  14418.28040"
      ]
     },
     "execution_count": 10,
     "metadata": {},
     "output_type": "execute_result"
    }
   ],
   "source": [
    "df_dataset[ (df_dataset['age'] == 64) & (df_dataset['children'] == 1) ]"
   ]
  },
  {
   "cell_type": "markdown",
   "id": "a7f9fd27",
   "metadata": {},
   "source": [
    "#### Berapa rata-rata body mass index (bmi) untuk nasabah yang berada di wilayah yang mengandung kata \"north\"?"
   ]
  },
  {
   "cell_type": "code",
   "execution_count": 11,
   "id": "180315fd",
   "metadata": {},
   "outputs": [
    {
     "data": {
      "text/html": [
       "<div>\n",
       "<style scoped>\n",
       "    .dataframe tbody tr th:only-of-type {\n",
       "        vertical-align: middle;\n",
       "    }\n",
       "\n",
       "    .dataframe tbody tr th {\n",
       "        vertical-align: top;\n",
       "    }\n",
       "\n",
       "    .dataframe thead th {\n",
       "        text-align: right;\n",
       "    }\n",
       "</style>\n",
       "<table border=\"1\" class=\"dataframe\">\n",
       "  <thead>\n",
       "    <tr style=\"text-align: right;\">\n",
       "      <th></th>\n",
       "      <th>age</th>\n",
       "      <th>sex</th>\n",
       "      <th>bmi</th>\n",
       "      <th>children</th>\n",
       "      <th>smoker</th>\n",
       "      <th>region</th>\n",
       "      <th>charges</th>\n",
       "    </tr>\n",
       "  </thead>\n",
       "  <tbody>\n",
       "    <tr>\n",
       "      <th>3</th>\n",
       "      <td>33</td>\n",
       "      <td>male</td>\n",
       "      <td>22.705</td>\n",
       "      <td>0</td>\n",
       "      <td>no</td>\n",
       "      <td>northwest</td>\n",
       "      <td>21984.47061</td>\n",
       "    </tr>\n",
       "    <tr>\n",
       "      <th>4</th>\n",
       "      <td>32</td>\n",
       "      <td>male</td>\n",
       "      <td>28.880</td>\n",
       "      <td>0</td>\n",
       "      <td>no</td>\n",
       "      <td>northwest</td>\n",
       "      <td>3866.85520</td>\n",
       "    </tr>\n",
       "    <tr>\n",
       "      <th>7</th>\n",
       "      <td>37</td>\n",
       "      <td>female</td>\n",
       "      <td>27.740</td>\n",
       "      <td>3</td>\n",
       "      <td>no</td>\n",
       "      <td>northwest</td>\n",
       "      <td>7281.50560</td>\n",
       "    </tr>\n",
       "    <tr>\n",
       "      <th>8</th>\n",
       "      <td>37</td>\n",
       "      <td>male</td>\n",
       "      <td>29.830</td>\n",
       "      <td>2</td>\n",
       "      <td>no</td>\n",
       "      <td>northeast</td>\n",
       "      <td>6406.41070</td>\n",
       "    </tr>\n",
       "    <tr>\n",
       "      <th>9</th>\n",
       "      <td>60</td>\n",
       "      <td>female</td>\n",
       "      <td>25.840</td>\n",
       "      <td>0</td>\n",
       "      <td>no</td>\n",
       "      <td>northwest</td>\n",
       "      <td>28923.13692</td>\n",
       "    </tr>\n",
       "    <tr>\n",
       "      <th>...</th>\n",
       "      <td>...</td>\n",
       "      <td>...</td>\n",
       "      <td>...</td>\n",
       "      <td>...</td>\n",
       "      <td>...</td>\n",
       "      <td>...</td>\n",
       "      <td>...</td>\n",
       "    </tr>\n",
       "    <tr>\n",
       "      <th>1326</th>\n",
       "      <td>42</td>\n",
       "      <td>female</td>\n",
       "      <td>32.870</td>\n",
       "      <td>0</td>\n",
       "      <td>no</td>\n",
       "      <td>northeast</td>\n",
       "      <td>7050.02130</td>\n",
       "    </tr>\n",
       "    <tr>\n",
       "      <th>1328</th>\n",
       "      <td>23</td>\n",
       "      <td>female</td>\n",
       "      <td>24.225</td>\n",
       "      <td>2</td>\n",
       "      <td>no</td>\n",
       "      <td>northeast</td>\n",
       "      <td>22395.74424</td>\n",
       "    </tr>\n",
       "    <tr>\n",
       "      <th>1333</th>\n",
       "      <td>50</td>\n",
       "      <td>male</td>\n",
       "      <td>30.970</td>\n",
       "      <td>3</td>\n",
       "      <td>no</td>\n",
       "      <td>northwest</td>\n",
       "      <td>10600.54830</td>\n",
       "    </tr>\n",
       "    <tr>\n",
       "      <th>1334</th>\n",
       "      <td>18</td>\n",
       "      <td>female</td>\n",
       "      <td>31.920</td>\n",
       "      <td>0</td>\n",
       "      <td>no</td>\n",
       "      <td>northeast</td>\n",
       "      <td>2205.98080</td>\n",
       "    </tr>\n",
       "    <tr>\n",
       "      <th>1337</th>\n",
       "      <td>61</td>\n",
       "      <td>female</td>\n",
       "      <td>29.070</td>\n",
       "      <td>0</td>\n",
       "      <td>yes</td>\n",
       "      <td>northwest</td>\n",
       "      <td>29141.36030</td>\n",
       "    </tr>\n",
       "  </tbody>\n",
       "</table>\n",
       "<p>649 rows × 7 columns</p>\n",
       "</div>"
      ],
      "text/plain": [
       "      age     sex     bmi  children smoker     region      charges\n",
       "3      33    male  22.705         0     no  northwest  21984.47061\n",
       "4      32    male  28.880         0     no  northwest   3866.85520\n",
       "7      37  female  27.740         3     no  northwest   7281.50560\n",
       "8      37    male  29.830         2     no  northeast   6406.41070\n",
       "9      60  female  25.840         0     no  northwest  28923.13692\n",
       "...   ...     ...     ...       ...    ...        ...          ...\n",
       "1326   42  female  32.870         0     no  northeast   7050.02130\n",
       "1328   23  female  24.225         2     no  northeast  22395.74424\n",
       "1333   50    male  30.970         3     no  northwest  10600.54830\n",
       "1334   18  female  31.920         0     no  northeast   2205.98080\n",
       "1337   61  female  29.070         0    yes  northwest  29141.36030\n",
       "\n",
       "[649 rows x 7 columns]"
      ]
     },
     "execution_count": 11,
     "metadata": {},
     "output_type": "execute_result"
    }
   ],
   "source": [
    "df_dataset[df_dataset['region'].str.contains(\"north\", case=True)]"
   ]
  },
  {
   "cell_type": "code",
   "execution_count": 12,
   "id": "6400de12",
   "metadata": {},
   "outputs": [],
   "source": [
    "data_bmi = df_dataset[df_dataset['region'].str.contains(\"north\", case=True)]"
   ]
  },
  {
   "cell_type": "code",
   "execution_count": 13,
   "id": "a797d260",
   "metadata": {},
   "outputs": [
    {
     "data": {
      "text/plain": [
       "29.186664098613257"
      ]
     },
     "execution_count": 13,
     "metadata": {},
     "output_type": "execute_result"
    }
   ],
   "source": [
    "data_bmi['bmi'].mean()"
   ]
  },
  {
   "cell_type": "markdown",
   "id": "55c7760b",
   "metadata": {},
   "source": [
    "#### Bagi nasabah laki-laki perokok dengan usia lebih dari 50 tahun, jika dibuat kolom baru dengan nilai bmi - 1.5, maka berapa rata-rata bmi_baru tersebut?"
   ]
  },
  {
   "cell_type": "code",
   "execution_count": 32,
   "id": "5e9d122a",
   "metadata": {},
   "outputs": [],
   "source": [
    "data_New = df_dataset[ (df_dataset['smoker']=='yes') & (df_dataset['sex']=='male') & (df_dataset['age']>50)]"
   ]
  },
  {
   "cell_type": "code",
   "execution_count": 33,
   "id": "d27c5cdb",
   "metadata": {},
   "outputs": [],
   "source": [
    "data_New['Bmi_new'] = data_New['bmi']-1.5"
   ]
  },
  {
   "cell_type": "code",
   "execution_count": 31,
   "id": "67feab0a",
   "metadata": {},
   "outputs": [
    {
     "data": {
      "text/plain": [
       "30.6904054054054"
      ]
     },
     "execution_count": 31,
     "metadata": {},
     "output_type": "execute_result"
    }
   ],
   "source": [
    "data_New['Bmi_new'].mean()"
   ]
  }
 ],
 "metadata": {
  "kernelspec": {
   "display_name": "Python 3.9.12 64-bit",
   "language": "python",
   "name": "python3"
  },
  "language_info": {
   "codemirror_mode": {
    "name": "ipython",
    "version": 3
   },
   "file_extension": ".py",
   "mimetype": "text/x-python",
   "name": "python",
   "nbconvert_exporter": "python",
   "pygments_lexer": "ipython3",
   "version": "3.9.12"
  },
  "vscode": {
   "interpreter": {
    "hash": "aee8b7b246df8f9039afb4144a1f6fd8d2ca17a180786b69acc140d282b71a49"
   }
  }
 },
 "nbformat": 4,
 "nbformat_minor": 5
}
